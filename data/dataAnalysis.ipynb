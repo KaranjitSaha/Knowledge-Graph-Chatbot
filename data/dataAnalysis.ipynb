{
 "cells": [
  {
   "cell_type": "code",
   "execution_count": 9,
   "metadata": {},
   "outputs": [],
   "source": [
    "import pandas as pd\n",
    "\n",
    "# Read the data from articles.csv\n",
    "data = pd.read_csv('articles.csv')\n",
    "pd.set_option('display.max_colwidth', None)\n",
    "# Display the data in an organized format\n",
    "# print(data)"
   ]
  },
  {
   "cell_type": "code",
   "execution_count": 5,
   "metadata": {},
   "outputs": [
    {
     "data": {
      "text/html": [
       "<div>\n",
       "<style scoped>\n",
       "    .dataframe tbody tr th:only-of-type {\n",
       "        vertical-align: middle;\n",
       "    }\n",
       "\n",
       "    .dataframe tbody tr th {\n",
       "        vertical-align: top;\n",
       "    }\n",
       "\n",
       "    .dataframe thead th {\n",
       "        text-align: right;\n",
       "    }\n",
       "</style>\n",
       "<table border=\"1\" class=\"dataframe\">\n",
       "  <thead>\n",
       "    <tr style=\"text-align: right;\">\n",
       "      <th></th>\n",
       "      <th>article_id</th>\n",
       "      <th>sectionName</th>\n",
       "      <th>webTitle</th>\n",
       "      <th>webUrl</th>\n",
       "      <th>bodyContent</th>\n",
       "      <th>webPublicationDate</th>\n",
       "      <th>id</th>\n",
       "    </tr>\n",
       "  </thead>\n",
       "  <tbody>\n",
       "    <tr>\n",
       "      <th>0</th>\n",
       "      <td>environment/2022/jun/30/former-australian-chie...</td>\n",
       "      <td>Environment</td>\n",
       "      <td>Former Australian chief scientist to head revi...</td>\n",
       "      <td>https://www.theguardian.com/environment/2022/j...</td>\n",
       "      <td>The former Australian chief scientist and seni...</td>\n",
       "      <td>2022-06-30 23:53:09+00:00</td>\n",
       "      <td>147919</td>\n",
       "    </tr>\n",
       "  </tbody>\n",
       "</table>\n",
       "</div>"
      ],
      "text/plain": [
       "                                          article_id  sectionName  \\\n",
       "0  environment/2022/jun/30/former-australian-chie...  Environment   \n",
       "\n",
       "                                            webTitle  \\\n",
       "0  Former Australian chief scientist to head revi...   \n",
       "\n",
       "                                              webUrl  \\\n",
       "0  https://www.theguardian.com/environment/2022/j...   \n",
       "\n",
       "                                         bodyContent  \\\n",
       "0  The former Australian chief scientist and seni...   \n",
       "\n",
       "          webPublicationDate      id  \n",
       "0  2022-06-30 23:53:09+00:00  147919  "
      ]
     },
     "metadata": {},
     "output_type": "display_data"
    }
   ],
   "source": [
    "display(data.head(1))"
   ]
  },
  {
   "cell_type": "code",
   "execution_count": 11,
   "metadata": {},
   "outputs": [
    {
     "name": "stdout",
     "output_type": "stream",
     "text": [
      "                                                                                                                         article_id  sectionName                                                                                                   webTitle                                                                                                                                                        webUrl                                                                                                                                                                                                                                                                                                                                                                                                                                                                                                                                                                                                                                                                                                                                                                                                                                                                                                                                                                                                                                                                                                                                                                                                                                                                                                                                                                                                                                                                                                                                                                                                                                                                                                                                                                                                                                                                                                                                                                                                                                                                                                                                                                                                                                                                                                                                                                                                                                                                                                                                                                                                                                                                                                                                                                                                                                                                                                                                                                                                                                                                                                                                                                                                                                                                                                                                                                                                                                                                                                                                                                                                                                                                                                                                                                                                                                                                                                                                                                                                                                                                                                                                                                                                                                                                                                                                                                                                                                                                                                                                                                                                                                                                                                                                                                                                                                                                                                                                                                                                                                                                                                                                                                                                                                                                                                                                                                                                                                                                                                                                                                                                                                                                                                                                                                                                                                                             bodyContent         webPublicationDate      id\n",
      "0  environment/2022/jun/30/former-australian-chief-scientist-to-head-review-of-carbon-credit-scheme-after-whistleblower-revelations  Environment  Former Australian chief scientist to head review of carbon credit scheme after whistleblower revelations   https://www.theguardian.com/environment/2022/jun/30/former-australian-chief-scientist-to-head-review-of-carbon-credit-scheme-after-whistleblower-revelations  The former Australian chief scientist and senior academic, Prof Ian Chubb, has been appointed to head a thorough review of Australia’s carbon credit scheme as experts escalate calls for a complete overhaul of the system. Chris Bowen, the climate change minister, announced on Friday that Chubb, a neuroscientist and former vice-chancellor of the Australian National University, would lead the six-month review of the scheme, after a respected whistleblower described it as a fraud and waste of taxpayer money. Carbon credits are bought by governments and businesses as an alternative to cutting carbon dioxide emissions. While their use to help meet emissions targets has significant support – particularly among polluting companies promising to offset their impact on the planet – critics have raised concern about whether credits issued in Australia represent real emissions cuts beyond what would have happened anyway. Bowen promised the review last year after research from the Australian Conservation Foundation and progressive thinktank the Australia Institute estimated 20% of credits did not represent real cuts and were essentially “junk”.\\nThis conclusion was reinforced in March by Prof Andrew Macintosh, who spent years working on the integrity of the carbon credit system as chair of the Emissions Reduction Assurance Committee. He said the scheme was “largely a sham” as virtually all methods used to create credits had serious integrity issues in either their design or how they were administered. In a statement on Friday, Bowen said Chubb would lead a four-person review panel that would advise the government on “how best Australia can realise the full potential” of the carbon credit system. Its focus would include “governance arrangements and legislative requirements”. “Concerns have been raised recently about several aspects of Australia’s carbon crediting system, including the integrity of its key methods and the Australian carbon credit units issued under it,” he said. “The government wants to make sure it remains a strong and credible scheme supported by participants, purchasers and the broader community. The review will achieve that goal.” Macintosh’s assessment has been strongly rejected by the Clean Energy Regulator (CER), which has overarching responsibility for designing and regulating methods to create carbon credit methods, and the industry body the Carbon Market Institute. Sign up to receive an email with the top stories from Guardian Australia every morning\\nIn a new paper released on Friday, Macintosh and five colleagues called for the Chubb review to go further than just looking at methods used to create credits, as Labor promised before the May election. The group, which includes ANU legal academic Prof Don Butler and University of New South Wales public sector management lecturer Dr Megan Evans, said it should consider the entire system, including the agencies that run it. The paper said businesses that created credits – mainly by regrowing forests, protecting existing forests or cutting pollution from landfill sites – were largely acting within the rules, but they were being “paid for services that had not been provided”, and the Clean Energy Regulator and the Emissions Reduction Assurance Committee had tried to “sweep the problems under the carpet”. Macintosh, an Australian National University environmental law professor, said the review should be “resetting the system”, including the governing bodies and the philosophy guiding when credits should be able to be used.\\nThe academics suggested up to 80% of credits issued using the three most popular methods lacked integrity. “In our view, a process that systematically pays people to provide a service that is not provided is fraudulent,” the paper said. “We do not suggest proponents have acted unlawfully. The problem is with the system – administered by the Clean Energy Regulator and the Emissions Reduction Assurance Committee – not the individual beneficiaries of it.” The paper said the issues with the system had arisen due to a greater focus under the previous Coalition government on providing large volumes of credits at low cost than ensuring integrity. It said the complexities in designing carbon credit schemes meant mistakes were inevitable and a degree of error must be accepted, with most professionals working in the area accepting about 80% of cuts needed to be real for the system to have integrity. It said the high risk of error meant integrity could be maintained only through a “culture of transparency” in which administrators “expect and actively seek out errors, and move quickly to correct them when they are found”. The academics said this did not currently happen and rules that forced the disclosure of information were needed.\\n“The longer the current problems are left to run, the more obvious the gap between reality and the intended outcomes of the scheme will be, and the more jarring the inevitable correction,” they said. Responding to the paper, a spokesperson for the regulator again rejected that a fraud had occurred and said “no substantial evidence for claims of fraud have ever been provided”. “These are serious allegations and the CER is dismayed at the statement that attributes these alleged outcomes to the work done by the CER. We understand that Erac has the same view,” they said. “The government has said it will undertake a review of the ERF and details will be announced shortly. We do not wish to pre-empt the scope of the review or its findings. We welcome the review and look forward to engaging substantively with the review process once it commences.”  2022-06-30 23:53:09+00:00  147919\n"
     ]
    }
   ],
   "source": [
    "print(data.head(1).to_string())"
   ]
  }
 ],
 "metadata": {
  "kernelspec": {
   "display_name": "Python 3",
   "language": "python",
   "name": "python3"
  },
  "language_info": {
   "codemirror_mode": {
    "name": "ipython",
    "version": 3
   },
   "file_extension": ".py",
   "mimetype": "text/x-python",
   "name": "python",
   "nbconvert_exporter": "python",
   "pygments_lexer": "ipython3",
   "version": "3.10.12"
  }
 },
 "nbformat": 4,
 "nbformat_minor": 2
}
